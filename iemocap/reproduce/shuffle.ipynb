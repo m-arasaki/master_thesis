{
 "cells": [
  {
   "cell_type": "code",
   "execution_count": 1,
   "id": "fce77c56",
   "metadata": {},
   "outputs": [],
   "source": [
    "import pandas as pd"
   ]
  },
  {
   "cell_type": "code",
   "execution_count": 2,
   "id": "b78ecc81",
   "metadata": {},
   "outputs": [],
   "source": [
    "df = pd.read_csv('iemocap_all.csv')"
   ]
  },
  {
   "cell_type": "code",
   "execution_count": 3,
   "id": "def1ff20",
   "metadata": {},
   "outputs": [
    {
     "data": {
      "text/html": [
       "<div>\n",
       "<style scoped>\n",
       "    .dataframe tbody tr th:only-of-type {\n",
       "        vertical-align: middle;\n",
       "    }\n",
       "\n",
       "    .dataframe tbody tr th {\n",
       "        vertical-align: top;\n",
       "    }\n",
       "\n",
       "    .dataframe thead th {\n",
       "        text-align: right;\n",
       "    }\n",
       "</style>\n",
       "<table border=\"1\" class=\"dataframe\">\n",
       "  <thead>\n",
       "    <tr style=\"text-align: right;\">\n",
       "      <th></th>\n",
       "      <th>file</th>\n",
       "      <th>emotion</th>\n",
       "      <th>speaker</th>\n",
       "      <th>text</th>\n",
       "    </tr>\n",
       "  </thead>\n",
       "  <tbody>\n",
       "    <tr>\n",
       "      <th>0</th>\n",
       "      <td>./wav_path/Ses01F_impro01_F000.wav</td>\n",
       "      <td>e0</td>\n",
       "      <td>Ses01F</td>\n",
       "      <td>EXCUSE ME .</td>\n",
       "    </tr>\n",
       "    <tr>\n",
       "      <th>1</th>\n",
       "      <td>./wav_path/Ses01F_impro01_F001.wav</td>\n",
       "      <td>e0</td>\n",
       "      <td>Ses01F</td>\n",
       "      <td>YEAH .</td>\n",
       "    </tr>\n",
       "    <tr>\n",
       "      <th>2</th>\n",
       "      <td>./wav_path/Ses01F_impro01_F002.wav</td>\n",
       "      <td>e0</td>\n",
       "      <td>Ses01F</td>\n",
       "      <td>IS THERE A PROBLEM .</td>\n",
       "    </tr>\n",
       "    <tr>\n",
       "      <th>3</th>\n",
       "      <td>./wav_path/Ses01F_impro01_F005.wav</td>\n",
       "      <td>e0</td>\n",
       "      <td>Ses01F</td>\n",
       "      <td>WELL WHAT'S  THE PROBLEM LET ME CHANGE IT .</td>\n",
       "    </tr>\n",
       "    <tr>\n",
       "      <th>4</th>\n",
       "      <td>./wav_path/Ses01F_impro01_F012.wav</td>\n",
       "      <td>e2</td>\n",
       "      <td>Ses01F</td>\n",
       "      <td>THAT'S OUT OF CONTROL .</td>\n",
       "    </tr>\n",
       "    <tr>\n",
       "      <th>...</th>\n",
       "      <td>...</td>\n",
       "      <td>...</td>\n",
       "      <td>...</td>\n",
       "      <td>...</td>\n",
       "    </tr>\n",
       "    <tr>\n",
       "      <th>5526</th>\n",
       "      <td>./wav_path/Ses05M_script03_2_M041.wav</td>\n",
       "      <td>e2</td>\n",
       "      <td>Ses05M</td>\n",
       "      <td>YOU  ARE A VILE TEMPERED  WICKED LIVING EVIL L...</td>\n",
       "    </tr>\n",
       "    <tr>\n",
       "      <th>5527</th>\n",
       "      <td>./wav_path/Ses05M_script03_2_M042.wav</td>\n",
       "      <td>e2</td>\n",
       "      <td>Ses05M</td>\n",
       "      <td>OH YOU'RE NOT GOING LIKE THIS .</td>\n",
       "    </tr>\n",
       "    <tr>\n",
       "      <th>5528</th>\n",
       "      <td>./wav_path/Ses05M_script03_2_M043.wav</td>\n",
       "      <td>e2</td>\n",
       "      <td>Ses05M</td>\n",
       "      <td>{NS} NO YOU'RE NOT .</td>\n",
       "    </tr>\n",
       "    <tr>\n",
       "      <th>5529</th>\n",
       "      <td>./wav_path/Ses05M_script03_2_M044.wav</td>\n",
       "      <td>e2</td>\n",
       "      <td>Ses05M</td>\n",
       "      <td>OH MARRY YOU AGAIN I WOULDN'T MARRY YOU AGAIN ...</td>\n",
       "    </tr>\n",
       "    <tr>\n",
       "      <th>5530</th>\n",
       "      <td>./wav_path/Ses05M_script03_2_M045.wav</td>\n",
       "      <td>e2</td>\n",
       "      <td>Ses05M</td>\n",
       "      <td>YOU'RE A  WICKED LITTLE VAMPIRE AND I PRAY TO ...</td>\n",
       "    </tr>\n",
       "  </tbody>\n",
       "</table>\n",
       "<p>5531 rows × 4 columns</p>\n",
       "</div>"
      ],
      "text/plain": [
       "                                       file emotion speaker  \\\n",
       "0        ./wav_path/Ses01F_impro01_F000.wav      e0  Ses01F   \n",
       "1        ./wav_path/Ses01F_impro01_F001.wav      e0  Ses01F   \n",
       "2        ./wav_path/Ses01F_impro01_F002.wav      e0  Ses01F   \n",
       "3        ./wav_path/Ses01F_impro01_F005.wav      e0  Ses01F   \n",
       "4        ./wav_path/Ses01F_impro01_F012.wav      e2  Ses01F   \n",
       "...                                     ...     ...     ...   \n",
       "5526  ./wav_path/Ses05M_script03_2_M041.wav      e2  Ses05M   \n",
       "5527  ./wav_path/Ses05M_script03_2_M042.wav      e2  Ses05M   \n",
       "5528  ./wav_path/Ses05M_script03_2_M043.wav      e2  Ses05M   \n",
       "5529  ./wav_path/Ses05M_script03_2_M044.wav      e2  Ses05M   \n",
       "5530  ./wav_path/Ses05M_script03_2_M045.wav      e2  Ses05M   \n",
       "\n",
       "                                                   text  \n",
       "0                                           EXCUSE ME .  \n",
       "1                                                YEAH .  \n",
       "2                                  IS THERE A PROBLEM .  \n",
       "3           WELL WHAT'S  THE PROBLEM LET ME CHANGE IT .  \n",
       "4                               THAT'S OUT OF CONTROL .  \n",
       "...                                                 ...  \n",
       "5526  YOU  ARE A VILE TEMPERED  WICKED LIVING EVIL L...  \n",
       "5527                    OH YOU'RE NOT GOING LIKE THIS .  \n",
       "5528                               {NS} NO YOU'RE NOT .  \n",
       "5529  OH MARRY YOU AGAIN I WOULDN'T MARRY YOU AGAIN ...  \n",
       "5530  YOU'RE A  WICKED LITTLE VAMPIRE AND I PRAY TO ...  \n",
       "\n",
       "[5531 rows x 4 columns]"
      ]
     },
     "execution_count": 3,
     "metadata": {},
     "output_type": "execute_result"
    }
   ],
   "source": [
    "df"
   ]
  },
  {
   "cell_type": "code",
   "execution_count": 4,
   "id": "e7c0be32",
   "metadata": {},
   "outputs": [],
   "source": [
    "df = df.sample(frac=1, random_state=0)"
   ]
  },
  {
   "cell_type": "code",
   "execution_count": 5,
   "id": "07ad4a51",
   "metadata": {},
   "outputs": [
    {
     "data": {
      "text/html": [
       "<div>\n",
       "<style scoped>\n",
       "    .dataframe tbody tr th:only-of-type {\n",
       "        vertical-align: middle;\n",
       "    }\n",
       "\n",
       "    .dataframe tbody tr th {\n",
       "        vertical-align: top;\n",
       "    }\n",
       "\n",
       "    .dataframe thead th {\n",
       "        text-align: right;\n",
       "    }\n",
       "</style>\n",
       "<table border=\"1\" class=\"dataframe\">\n",
       "  <thead>\n",
       "    <tr style=\"text-align: right;\">\n",
       "      <th></th>\n",
       "      <th>file</th>\n",
       "      <th>emotion</th>\n",
       "      <th>speaker</th>\n",
       "      <th>text</th>\n",
       "    </tr>\n",
       "  </thead>\n",
       "  <tbody>\n",
       "    <tr>\n",
       "      <th>1622</th>\n",
       "      <td>./wav_path/Ses02M_impro02_F012.wav</td>\n",
       "      <td>e3</td>\n",
       "      <td>Ses02F</td>\n",
       "      <td>WILL YOU WRITE ME LETTERS  PAPER ONES .</td>\n",
       "    </tr>\n",
       "    <tr>\n",
       "      <th>3651</th>\n",
       "      <td>./wav_path/Ses04F_script01_3_M028.wav</td>\n",
       "      <td>e3</td>\n",
       "      <td>Ses04M</td>\n",
       "      <td>WELL . I LOST THEM .</td>\n",
       "    </tr>\n",
       "    <tr>\n",
       "      <th>1336</th>\n",
       "      <td>./wav_path/Ses02F_script01_1_F004.wav</td>\n",
       "      <td>e3</td>\n",
       "      <td>Ses02F</td>\n",
       "      <td>DID YOU TALK TO HIM .</td>\n",
       "    </tr>\n",
       "    <tr>\n",
       "      <th>3117</th>\n",
       "      <td>./wav_path/Ses03M_script01_3_M045.wav</td>\n",
       "      <td>e1</td>\n",
       "      <td>Ses03M</td>\n",
       "      <td>ANNIE I'M GOING TO MAKE A FORTUNE FOR . YOU .</td>\n",
       "    </tr>\n",
       "    <tr>\n",
       "      <th>134</th>\n",
       "      <td>./wav_path/Ses01F_impro05_F025.wav</td>\n",
       "      <td>e2</td>\n",
       "      <td>Ses01F</td>\n",
       "      <td>I DON'T WANT MONEY I WANT MY CLOTHES .</td>\n",
       "    </tr>\n",
       "    <tr>\n",
       "      <th>...</th>\n",
       "      <td>...</td>\n",
       "      <td>...</td>\n",
       "      <td>...</td>\n",
       "      <td>...</td>\n",
       "    </tr>\n",
       "    <tr>\n",
       "      <th>4931</th>\n",
       "      <td>./wav_path/Ses05F_script03_2_M041.wav</td>\n",
       "      <td>e2</td>\n",
       "      <td>Ses05M</td>\n",
       "      <td>VERY MUSIC AMUSING INDEED .</td>\n",
       "    </tr>\n",
       "    <tr>\n",
       "      <th>3264</th>\n",
       "      <td>./wav_path/Ses04F_impro01_F014.wav</td>\n",
       "      <td>e2</td>\n",
       "      <td>Ses04F</td>\n",
       "      <td>I MEAN LOOK SHE'S SHE'S PERFECTLY NICE SHE DOE...</td>\n",
       "    </tr>\n",
       "    <tr>\n",
       "      <th>1653</th>\n",
       "      <td>./wav_path/Ses02M_impro03_F028.wav</td>\n",
       "      <td>e1</td>\n",
       "      <td>Ses02F</td>\n",
       "      <td>YAY WELL CONGRATULATIONS . THAT'S  SO COOL  {B...</td>\n",
       "    </tr>\n",
       "    <tr>\n",
       "      <th>2607</th>\n",
       "      <td>./wav_path/Ses03F_script03_2_F037.wav</td>\n",
       "      <td>e2</td>\n",
       "      <td>Ses03F</td>\n",
       "      <td>I WILL NOT GO AWAY GO AWAY I HATE YOU .</td>\n",
       "    </tr>\n",
       "    <tr>\n",
       "      <th>2732</th>\n",
       "      <td>./wav_path/Ses03M_impro03_M019.wav</td>\n",
       "      <td>e1</td>\n",
       "      <td>Ses03M</td>\n",
       "      <td>YEAH .</td>\n",
       "    </tr>\n",
       "  </tbody>\n",
       "</table>\n",
       "<p>5531 rows × 4 columns</p>\n",
       "</div>"
      ],
      "text/plain": [
       "                                       file emotion speaker  \\\n",
       "1622     ./wav_path/Ses02M_impro02_F012.wav      e3  Ses02F   \n",
       "3651  ./wav_path/Ses04F_script01_3_M028.wav      e3  Ses04M   \n",
       "1336  ./wav_path/Ses02F_script01_1_F004.wav      e3  Ses02F   \n",
       "3117  ./wav_path/Ses03M_script01_3_M045.wav      e1  Ses03M   \n",
       "134      ./wav_path/Ses01F_impro05_F025.wav      e2  Ses01F   \n",
       "...                                     ...     ...     ...   \n",
       "4931  ./wav_path/Ses05F_script03_2_M041.wav      e2  Ses05M   \n",
       "3264     ./wav_path/Ses04F_impro01_F014.wav      e2  Ses04F   \n",
       "1653     ./wav_path/Ses02M_impro03_F028.wav      e1  Ses02F   \n",
       "2607  ./wav_path/Ses03F_script03_2_F037.wav      e2  Ses03F   \n",
       "2732     ./wav_path/Ses03M_impro03_M019.wav      e1  Ses03M   \n",
       "\n",
       "                                                   text  \n",
       "1622            WILL YOU WRITE ME LETTERS  PAPER ONES .  \n",
       "3651                               WELL . I LOST THEM .  \n",
       "1336                              DID YOU TALK TO HIM .  \n",
       "3117      ANNIE I'M GOING TO MAKE A FORTUNE FOR . YOU .  \n",
       "134              I DON'T WANT MONEY I WANT MY CLOTHES .  \n",
       "...                                                 ...  \n",
       "4931                        VERY MUSIC AMUSING INDEED .  \n",
       "3264  I MEAN LOOK SHE'S SHE'S PERFECTLY NICE SHE DOE...  \n",
       "1653  YAY WELL CONGRATULATIONS . THAT'S  SO COOL  {B...  \n",
       "2607            I WILL NOT GO AWAY GO AWAY I HATE YOU .  \n",
       "2732                                             YEAH .  \n",
       "\n",
       "[5531 rows x 4 columns]"
      ]
     },
     "execution_count": 5,
     "metadata": {},
     "output_type": "execute_result"
    }
   ],
   "source": [
    "df"
   ]
  },
  {
   "cell_type": "code",
   "execution_count": 6,
   "id": "8d17a785",
   "metadata": {},
   "outputs": [],
   "source": [
    "n = 553"
   ]
  },
  {
   "cell_type": "code",
   "execution_count": 7,
   "id": "881c0ce8",
   "metadata": {},
   "outputs": [],
   "source": [
    "df_list = []\n",
    "for i in range(10):\n",
    "    if(i != 9):\n",
    "        df_list.append(df[i * n : (i + 1) * n])\n",
    "    else:\n",
    "        df_list.append(df[i * n :])"
   ]
  },
  {
   "cell_type": "code",
   "execution_count": 9,
   "id": "56207700",
   "metadata": {
    "scrolled": true
   },
   "outputs": [
    {
     "name": "stdout",
     "output_type": "stream",
     "text": [
      "553\n",
      "553\n",
      "553\n",
      "553\n",
      "553\n",
      "553\n",
      "553\n",
      "553\n",
      "553\n",
      "554\n"
     ]
    }
   ],
   "source": [
    "for d in df_list:\n",
    "    print(len(d))"
   ]
  },
  {
   "cell_type": "code",
   "execution_count": 10,
   "id": "f81a94f1",
   "metadata": {},
   "outputs": [],
   "source": [
    "emotion_mapping = {'e0' : 'Neutral', 'e1' : 'Happy', 'e2' : 'Anger', 'e3' : 'Sad'}"
   ]
  },
  {
   "cell_type": "code",
   "execution_count": 11,
   "id": "1412d0fe",
   "metadata": {},
   "outputs": [],
   "source": [
    "spk_mapping = {\"Ses01F\": 0, \"Ses01M\": 1, \"Ses02F\": 2, \"Ses02M\": 3, \"Ses03F\": 4, \"Ses03M\": 5, \"Ses04F\": 6, \"Ses04M\": 7, \"Ses05F\": 8, \"Ses05M\": 9}"
   ]
  },
  {
   "cell_type": "code",
   "execution_count": 12,
   "id": "d9bf5f4c",
   "metadata": {},
   "outputs": [],
   "source": [
    "def process_s(s: str) -> str:\n",
    "    tmp = s.split()\n",
    "    return emotion_mapping[tmp[0]] + \"\\t \" + tmp[1]"
   ]
  },
  {
   "cell_type": "code",
   "execution_count": 20,
   "id": "055b8630",
   "metadata": {},
   "outputs": [],
   "source": [
    "def process_s_spk(s: str) -> str:\n",
    "    tmp = s.split()\n",
    "    return str(spk_mapping[tmp[0]]) + \"\\t\" + tmp[1]"
   ]
  },
  {
   "cell_type": "code",
   "execution_count": 27,
   "id": "03cb3953",
   "metadata": {},
   "outputs": [],
   "source": [
    "f = open('metadata.txt', 'w')"
   ]
  },
  {
   "cell_type": "code",
   "execution_count": 28,
   "id": "bbcd0b14",
   "metadata": {},
   "outputs": [
    {
     "data": {
      "text/plain": [
       "24"
      ]
     },
     "execution_count": 28,
     "metadata": {},
     "output_type": "execute_result"
    }
   ],
   "source": [
    "f.write('------- Emotion -------\\n')"
   ]
  },
  {
   "cell_type": "code",
   "execution_count": 29,
   "id": "2ac13c9b",
   "metadata": {
    "scrolled": true
   },
   "outputs": [],
   "source": [
    "for i in range(len(df_list)):\n",
    "    s = str(df_list[i]['emotion'].value_counts(sort=False)).split('\\n')[:-1]\n",
    "    f.write('portion_' + str(i) + '\\n')\n",
    "    for elem in s:\n",
    "        f.write(process_s(elem) + '\\n')\n",
    "    f.write('\\n')"
   ]
  },
  {
   "cell_type": "code",
   "execution_count": 30,
   "id": "a637b46b",
   "metadata": {},
   "outputs": [
    {
     "data": {
      "text/plain": [
       "24"
      ]
     },
     "execution_count": 30,
     "metadata": {},
     "output_type": "execute_result"
    }
   ],
   "source": [
    "f.write('------- Speaker -------\\n')"
   ]
  },
  {
   "cell_type": "code",
   "execution_count": 31,
   "id": "19453326",
   "metadata": {},
   "outputs": [],
   "source": [
    "for i in range(len(df_list)):\n",
    "    s = str(df_list[i]['speaker'].value_counts(sort=False)).split('\\n')[:-1]\n",
    "    f.write('portion_' + str(i) + '\\n')\n",
    "    for elem in s:\n",
    "        f.write(process_s_spk(elem) + '\\n')\n",
    "    f.write('\\n')"
   ]
  },
  {
   "cell_type": "code",
   "execution_count": 32,
   "id": "1921156e",
   "metadata": {},
   "outputs": [],
   "source": [
    "f.close()"
   ]
  },
  {
   "cell_type": "code",
   "execution_count": 36,
   "id": "dc50573e",
   "metadata": {
    "scrolled": true
   },
   "outputs": [
    {
     "data": {
      "text/plain": [
       "[                                       file emotion speaker  \\\n",
       " 1622     ./wav_path/Ses02M_impro02_F012.wav      e3  Ses02F   \n",
       " 3651  ./wav_path/Ses04F_script01_3_M028.wav      e3  Ses04M   \n",
       " 1336  ./wav_path/Ses02F_script01_1_F004.wav      e3  Ses02F   \n",
       " 3117  ./wav_path/Ses03M_script01_3_M045.wav      e1  Ses03M   \n",
       " 134      ./wav_path/Ses01F_impro05_F025.wav      e2  Ses01F   \n",
       " ...                                     ...     ...     ...   \n",
       " 1696     ./wav_path/Ses02M_impro05_F001.wav      e0  Ses02F   \n",
       " 2340     ./wav_path/Ses03F_impro08_F008.wav      e0  Ses03F   \n",
       " 3654  ./wav_path/Ses04F_script01_3_M031.wav      e3  Ses04M   \n",
       " 3487     ./wav_path/Ses04F_impro07_F061.wav      e1  Ses04F   \n",
       " 2102  ./wav_path/Ses02M_script03_2_M042.wav      e2  Ses02M   \n",
       " \n",
       "                                                    text  \n",
       " 1622            WILL YOU WRITE ME LETTERS  PAPER ONES .  \n",
       " 3651                               WELL . I LOST THEM .  \n",
       " 1336                              DID YOU TALK TO HIM .  \n",
       " 3117      ANNIE I'M GOING TO MAKE A FORTUNE FOR . YOU .  \n",
       " 134              I DON'T WANT MONEY I WANT MY CLOTHES .  \n",
       " ...                                                 ...  \n",
       " 1696  OH DID YOU CHECK DID YOU MAKE SURE AS IT WENT ...  \n",
       " 2340  BUT I'M  GOING TO DEFINITELY HAVE  TO  UH  GET...  \n",
       " 3654  FOR INSTANCE ONE TIME IT HAD BEEN RAINING SEVE...  \n",
       " 3487                                  STUDENT COUNSEL .  \n",
       " 2102  YOU'RE A VILE TEMPERED LOOSE LIVING WICKED LIT...  \n",
       " \n",
       " [553 rows x 4 columns],\n",
       "                                        file emotion speaker  \\\n",
       " 4004     ./wav_path/Ses04M_impro07_M042.wav      e0  Ses04M   \n",
       " 3082  ./wav_path/Ses03M_script01_3_F017.wav      e1  Ses03F   \n",
       " 2892     ./wav_path/Ses03M_impro06_M014.wav      e3  Ses03M   \n",
       " 1247     ./wav_path/Ses02F_impro07_F012.wav      e1  Ses02F   \n",
       " 2838    ./wav_path/Ses03M_impro05b_F030.wav      e0  Ses03F   \n",
       " ...                                     ...     ...     ...   \n",
       " 2708     ./wav_path/Ses03M_impro03_F017.wav      e1  Ses03F   \n",
       " 1521  ./wav_path/Ses02F_script03_1_M001.wav      e0  Ses02M   \n",
       " 624      ./wav_path/Ses01M_impro04_F023.wav      e0  Ses01F   \n",
       " 2234     ./wav_path/Ses03F_impro06_F005.wav      e3  Ses03F   \n",
       " 500   ./wav_path/Ses01F_script03_2_M034.wav      e2  Ses01M   \n",
       " \n",
       "                                                    text  \n",
       " 4004  CAUSE YOU KNOW I MEAN IT'S LIKE IF I EVER WANT...  \n",
       " 3082  I WAS WAITING FOR YOU CHRIS I . MEAN . TILL TH...  \n",
       " 2892                       THE MOTHER AND FATHER DIED .  \n",
       " 1247  LIKE  THEY FEEL LIKE . I FEEL LIKE IT'S GOING ...  \n",
       " 2838                  SOME  REFRESHMENTS IN THE LOBBY .  \n",
       " ...                                                 ...  \n",
       " 2708                              YOU . HAD THE MOUSE .  \n",
       " 1521                                         I WONDER .  \n",
       " 624                                              {BR} .  \n",
       " 2234  THEY THOUGHT HE  GOT . WOULD GET BETTER AND . ...  \n",
       " 500                                    TURN . IT  OFF .  \n",
       " \n",
       " [553 rows x 4 columns]]"
      ]
     },
     "execution_count": 36,
     "metadata": {},
     "output_type": "execute_result"
    }
   ],
   "source": [
    "df_list[0:2]"
   ]
  },
  {
   "cell_type": "code",
   "execution_count": 75,
   "id": "4cdab62b",
   "metadata": {},
   "outputs": [],
   "source": [
    "portions = []\n",
    "for i in range(len(df_list)):\n",
    "    portions.append({})\n",
    "    df_train = pd.DataFrame(columns=df_list[0].columns)\n",
    "    for j in range(len(df_list)):\n",
    "        if j is not i:\n",
    "            df_train = pd.concat([df_train, df_list[j]])\n",
    "    portions[i]['train'] = df_train.reset_index().drop('index', axis=1)\n",
    "    portions[i]['test'] = df_list[i].reset_index().drop('index', axis=1)"
   ]
  },
  {
   "cell_type": "code",
   "execution_count": 76,
   "id": "1443a5e4",
   "metadata": {},
   "outputs": [
    {
     "data": {
      "text/plain": [
       "{'train':                                        file emotion speaker  \\\n",
       " 0        ./wav_path/Ses04M_impro07_M042.wav      e0  Ses04M   \n",
       " 1     ./wav_path/Ses03M_script01_3_F017.wav      e1  Ses03F   \n",
       " 2        ./wav_path/Ses03M_impro06_M014.wav      e3  Ses03M   \n",
       " 3        ./wav_path/Ses02F_impro07_F012.wav      e1  Ses02F   \n",
       " 4       ./wav_path/Ses03M_impro05b_F030.wav      e0  Ses03F   \n",
       " ...                                     ...     ...     ...   \n",
       " 4973  ./wav_path/Ses05F_script03_2_M041.wav      e2  Ses05M   \n",
       " 4974     ./wav_path/Ses04F_impro01_F014.wav      e2  Ses04F   \n",
       " 4975     ./wav_path/Ses02M_impro03_F028.wav      e1  Ses02F   \n",
       " 4976  ./wav_path/Ses03F_script03_2_F037.wav      e2  Ses03F   \n",
       " 4977     ./wav_path/Ses03M_impro03_M019.wav      e1  Ses03M   \n",
       " \n",
       "                                                    text  \n",
       " 0     CAUSE YOU KNOW I MEAN IT'S LIKE IF I EVER WANT...  \n",
       " 1     I WAS WAITING FOR YOU CHRIS I . MEAN . TILL TH...  \n",
       " 2                          THE MOTHER AND FATHER DIED .  \n",
       " 3     LIKE  THEY FEEL LIKE . I FEEL LIKE IT'S GOING ...  \n",
       " 4                     SOME  REFRESHMENTS IN THE LOBBY .  \n",
       " ...                                                 ...  \n",
       " 4973                        VERY MUSIC AMUSING INDEED .  \n",
       " 4974  I MEAN LOOK SHE'S SHE'S PERFECTLY NICE SHE DOE...  \n",
       " 4975  YAY WELL CONGRATULATIONS . THAT'S  SO COOL  {B...  \n",
       " 4976            I WILL NOT GO AWAY GO AWAY I HATE YOU .  \n",
       " 4977                                             YEAH .  \n",
       " \n",
       " [4978 rows x 4 columns],\n",
       " 'test':                                       file emotion speaker  \\\n",
       " 0       ./wav_path/Ses02M_impro02_F012.wav      e3  Ses02F   \n",
       " 1    ./wav_path/Ses04F_script01_3_M028.wav      e3  Ses04M   \n",
       " 2    ./wav_path/Ses02F_script01_1_F004.wav      e3  Ses02F   \n",
       " 3    ./wav_path/Ses03M_script01_3_M045.wav      e1  Ses03M   \n",
       " 4       ./wav_path/Ses01F_impro05_F025.wav      e2  Ses01F   \n",
       " ..                                     ...     ...     ...   \n",
       " 548     ./wav_path/Ses02M_impro05_F001.wav      e0  Ses02F   \n",
       " 549     ./wav_path/Ses03F_impro08_F008.wav      e0  Ses03F   \n",
       " 550  ./wav_path/Ses04F_script01_3_M031.wav      e3  Ses04M   \n",
       " 551     ./wav_path/Ses04F_impro07_F061.wav      e1  Ses04F   \n",
       " 552  ./wav_path/Ses02M_script03_2_M042.wav      e2  Ses02M   \n",
       " \n",
       "                                                   text  \n",
       " 0              WILL YOU WRITE ME LETTERS  PAPER ONES .  \n",
       " 1                                 WELL . I LOST THEM .  \n",
       " 2                                DID YOU TALK TO HIM .  \n",
       " 3        ANNIE I'M GOING TO MAKE A FORTUNE FOR . YOU .  \n",
       " 4               I DON'T WANT MONEY I WANT MY CLOTHES .  \n",
       " ..                                                 ...  \n",
       " 548  OH DID YOU CHECK DID YOU MAKE SURE AS IT WENT ...  \n",
       " 549  BUT I'M  GOING TO DEFINITELY HAVE  TO  UH  GET...  \n",
       " 550  FOR INSTANCE ONE TIME IT HAD BEEN RAINING SEVE...  \n",
       " 551                                  STUDENT COUNSEL .  \n",
       " 552  YOU'RE A VILE TEMPERED LOOSE LIVING WICKED LIT...  \n",
       " \n",
       " [553 rows x 4 columns]}"
      ]
     },
     "execution_count": 76,
     "metadata": {},
     "output_type": "execute_result"
    }
   ],
   "source": [
    "portions[0]"
   ]
  },
  {
   "cell_type": "code",
   "execution_count": 78,
   "id": "7038727a",
   "metadata": {
    "scrolled": true
   },
   "outputs": [
    {
     "data": {
      "text/html": [
       "<div>\n",
       "<style scoped>\n",
       "    .dataframe tbody tr th:only-of-type {\n",
       "        vertical-align: middle;\n",
       "    }\n",
       "\n",
       "    .dataframe tbody tr th {\n",
       "        vertical-align: top;\n",
       "    }\n",
       "\n",
       "    .dataframe thead th {\n",
       "        text-align: right;\n",
       "    }\n",
       "</style>\n",
       "<table border=\"1\" class=\"dataframe\">\n",
       "  <thead>\n",
       "    <tr style=\"text-align: right;\">\n",
       "      <th></th>\n",
       "      <th>file</th>\n",
       "      <th>emotion</th>\n",
       "      <th>speaker</th>\n",
       "      <th>text</th>\n",
       "    </tr>\n",
       "  </thead>\n",
       "  <tbody>\n",
       "    <tr>\n",
       "      <th>0</th>\n",
       "      <td>./wav_path/Ses02M_impro02_F012.wav</td>\n",
       "      <td>e3</td>\n",
       "      <td>Ses02F</td>\n",
       "      <td>WILL YOU WRITE ME LETTERS  PAPER ONES .</td>\n",
       "    </tr>\n",
       "    <tr>\n",
       "      <th>1</th>\n",
       "      <td>./wav_path/Ses04F_script01_3_M028.wav</td>\n",
       "      <td>e3</td>\n",
       "      <td>Ses04M</td>\n",
       "      <td>WELL . I LOST THEM .</td>\n",
       "    </tr>\n",
       "    <tr>\n",
       "      <th>2</th>\n",
       "      <td>./wav_path/Ses02F_script01_1_F004.wav</td>\n",
       "      <td>e3</td>\n",
       "      <td>Ses02F</td>\n",
       "      <td>DID YOU TALK TO HIM .</td>\n",
       "    </tr>\n",
       "    <tr>\n",
       "      <th>3</th>\n",
       "      <td>./wav_path/Ses03M_script01_3_M045.wav</td>\n",
       "      <td>e1</td>\n",
       "      <td>Ses03M</td>\n",
       "      <td>ANNIE I'M GOING TO MAKE A FORTUNE FOR . YOU .</td>\n",
       "    </tr>\n",
       "    <tr>\n",
       "      <th>4</th>\n",
       "      <td>./wav_path/Ses01F_impro05_F025.wav</td>\n",
       "      <td>e2</td>\n",
       "      <td>Ses01F</td>\n",
       "      <td>I DON'T WANT MONEY I WANT MY CLOTHES .</td>\n",
       "    </tr>\n",
       "    <tr>\n",
       "      <th>...</th>\n",
       "      <td>...</td>\n",
       "      <td>...</td>\n",
       "      <td>...</td>\n",
       "      <td>...</td>\n",
       "    </tr>\n",
       "    <tr>\n",
       "      <th>4972</th>\n",
       "      <td>./wav_path/Ses01F_script03_1_F010.wav</td>\n",
       "      <td>e1</td>\n",
       "      <td>Ses01F</td>\n",
       "      <td>YES  MEANING JUST  THAT .</td>\n",
       "    </tr>\n",
       "    <tr>\n",
       "      <th>4973</th>\n",
       "      <td>./wav_path/Ses05F_impro04_F015.wav</td>\n",
       "      <td>e3</td>\n",
       "      <td>Ses05F</td>\n",
       "      <td>I'M JUST SO SCARED TO START OVER I MEAN I  PUT...</td>\n",
       "    </tr>\n",
       "    <tr>\n",
       "      <th>4974</th>\n",
       "      <td>./wav_path/Ses04F_script02_2_F033.wav</td>\n",
       "      <td>e2</td>\n",
       "      <td>Ses04F</td>\n",
       "      <td>THIS  WHAT WHAT IS THIS THIS ISN'T EVEN ANYTHI...</td>\n",
       "    </tr>\n",
       "    <tr>\n",
       "      <th>4975</th>\n",
       "      <td>./wav_path/Ses01M_impro05_M006.wav</td>\n",
       "      <td>e2</td>\n",
       "      <td>Ses01M</td>\n",
       "      <td>I'VE BEEN SITTING HERE FOR  FOUR HOURS .</td>\n",
       "    </tr>\n",
       "    <tr>\n",
       "      <th>4976</th>\n",
       "      <td>./wav_path/Ses01F_script02_1_M009.wav</td>\n",
       "      <td>e0</td>\n",
       "      <td>Ses01M</td>\n",
       "      <td>OH WELL  YEAH OF COURSE .</td>\n",
       "    </tr>\n",
       "  </tbody>\n",
       "</table>\n",
       "<p>4977 rows × 4 columns</p>\n",
       "</div>"
      ],
      "text/plain": [
       "                                       file emotion speaker  \\\n",
       "0        ./wav_path/Ses02M_impro02_F012.wav      e3  Ses02F   \n",
       "1     ./wav_path/Ses04F_script01_3_M028.wav      e3  Ses04M   \n",
       "2     ./wav_path/Ses02F_script01_1_F004.wav      e3  Ses02F   \n",
       "3     ./wav_path/Ses03M_script01_3_M045.wav      e1  Ses03M   \n",
       "4        ./wav_path/Ses01F_impro05_F025.wav      e2  Ses01F   \n",
       "...                                     ...     ...     ...   \n",
       "4972  ./wav_path/Ses01F_script03_1_F010.wav      e1  Ses01F   \n",
       "4973     ./wav_path/Ses05F_impro04_F015.wav      e3  Ses05F   \n",
       "4974  ./wav_path/Ses04F_script02_2_F033.wav      e2  Ses04F   \n",
       "4975     ./wav_path/Ses01M_impro05_M006.wav      e2  Ses01M   \n",
       "4976  ./wav_path/Ses01F_script02_1_M009.wav      e0  Ses01M   \n",
       "\n",
       "                                                   text  \n",
       "0               WILL YOU WRITE ME LETTERS  PAPER ONES .  \n",
       "1                                  WELL . I LOST THEM .  \n",
       "2                                 DID YOU TALK TO HIM .  \n",
       "3         ANNIE I'M GOING TO MAKE A FORTUNE FOR . YOU .  \n",
       "4                I DON'T WANT MONEY I WANT MY CLOTHES .  \n",
       "...                                                 ...  \n",
       "4972                          YES  MEANING JUST  THAT .  \n",
       "4973  I'M JUST SO SCARED TO START OVER I MEAN I  PUT...  \n",
       "4974  THIS  WHAT WHAT IS THIS THIS ISN'T EVEN ANYTHI...  \n",
       "4975           I'VE BEEN SITTING HERE FOR  FOUR HOURS .  \n",
       "4976                          OH WELL  YEAH OF COURSE .  \n",
       "\n",
       "[4977 rows x 4 columns]"
      ]
     },
     "execution_count": 78,
     "metadata": {},
     "output_type": "execute_result"
    }
   ],
   "source": [
    "portions[9]['train']"
   ]
  },
  {
   "cell_type": "code",
   "execution_count": 81,
   "id": "c07ca100",
   "metadata": {},
   "outputs": [],
   "source": [
    "for i in range(len(portions)):\n",
    "    portions[i]['train'].to_csv('iemocap_' + str(i) + '.train.csv', index=False)\n",
    "    portions[i]['test'].to_csv('iemocap_' + str(i) + '.test.csv', index=False)"
   ]
  }
 ],
 "metadata": {
  "kernelspec": {
   "display_name": "Python 3 (ipykernel)",
   "language": "python",
   "name": "python3"
  },
  "language_info": {
   "codemirror_mode": {
    "name": "ipython",
    "version": 3
   },
   "file_extension": ".py",
   "mimetype": "text/x-python",
   "name": "python",
   "nbconvert_exporter": "python",
   "pygments_lexer": "ipython3",
   "version": "3.8.13"
  }
 },
 "nbformat": 4,
 "nbformat_minor": 5
}
